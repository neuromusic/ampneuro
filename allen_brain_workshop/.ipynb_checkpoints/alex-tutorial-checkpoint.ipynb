{
 "cells": [
  {
   "cell_type": "markdown",
   "metadata": {},
   "source": [
    "<h1 align=\"center\">Data mining the Allen Brain Atlases with Python</h1>\n",
    "<h3 align=\"center\">by Alex Williams</h3>\n",
    "\n",
    "###Summary:\n",
    "\n",
    "This is a short tutorial covering some basic tools for *programmatically* accessing the [Allen Brain Atlases](http://www.brain-map.org/). Doing this *programmatically* means you are accessing the data automatically with code, rather than with direct user interaction (i.e. going to the [ABA webportal](http://www.brain-map.org/), and clicking on each experiment of interest). This is obviously advantageous if you want to consider the expression pattern of many genes at once, rather than a handful. The power of large-scale neuroanatomical analyses is exemplified by this recent paper: [(Ramsden et al., 2015)](http://journals.plos.org/ploscompbiol/article?id=10.1371/journal.pcbi.1004032).\n",
    "\n",
    "**We will use modules from the [standard python library](https://docs.python.org/2/library/) for this tutorial. But also check out our notebooks for using [Tortilla](http://nbviewer.ipython.org/github/ahwillia/ampneuro/blob/gh-pages/allen_brain_workshop/tortilla.ipynb) and Flotilla (soon to come) for your analysis.**"
   ]
  },
  {
   "cell_type": "code",
   "execution_count": 1,
   "metadata": {
    "collapsed": false
   },
   "outputs": [],
   "source": [
    "from __future__ import division\n",
    "import urllib\n",
    "import json\n",
    "import numpy as np\n",
    "import pylab as plt\n",
    "import warnings\n",
    "warnings.filterwarnings('ignore') # ignore annoying divide by zero warning\n",
    "%matplotlib inline"
   ]
  },
  {
   "cell_type": "markdown",
   "metadata": {},
   "source": [
    "##Accessing the [Connectivity Atlas](http://connectivity.brain-map.org/):\n",
    "\n",
    "To see how this works, try going to the following link: "
   ]
  },
  {
   "cell_type": "raw",
   "metadata": {},
   "source": [
    "http://api.brain-map.org/api/v2/data/query.json criteria=service::mouse_connectivity_injection_structure[target_domain$eqENTl]"
   ]
  },
  {
   "cell_type": "markdown",
   "metadata": {},
   "source": [
    "This retrieves all experiments in which axonal projections were traced to the lateral entorhinal cortex (`ENTl`). We coded this with the option `[target_domain$eqENTl]` which specifies the target (post-synaptic) neuroanatomical structure (here, `$eq` means \"equals\"). The data is given to us in [json format](http://en.wikipedia.org/wiki/JSON), which we specified by typing in `query.json`.\n",
    "\n",
    "The code below defines a [function](http://www.learnpython.org/en/Functions) that pulls all connectivity experiments that resulting in a projection to a target area of our choice."
   ]
  },
  {
   "cell_type": "code",
   "execution_count": 2,
   "metadata": {
    "collapsed": false
   },
   "outputs": [],
   "source": [
    "base_url = 'http://api.brain-map.org/api/v2/data/query.json?' + \\\n",
    "           'criteria=service::mouse_connectivity_injection_structure'\n",
    "\n",
    "def targ_data(targ):\n",
    "    s = 0    # index for starting row\n",
    "    done = False\n",
    "    data = []\n",
    "    \n",
    "    # The Allen Institute doesn't give us everything at once,\n",
    "    # we need to keep asking for more \"rows\" (experimental datasets)\n",
    "    # until there are none left, we do this by passing the\n",
    "    # [start_row$eq(s)] option, and keep incrementing s until there\n",
    "    # are no rows left.\n",
    "    while not done:\n",
    "        paged_url = base_url+'[target_domain$eq'+targ+'][start_row$eq'+str(s)+']'\n",
    "        new_data = json.loads(urllib.urlopen(paged_url).read())\n",
    "        if new_data['num_rows'] == 0:\n",
    "            done = True\n",
    "        else:\n",
    "            data += new_data['msg']\n",
    "            s += new_data['num_rows']\n",
    "    return data"
   ]
  },
  {
   "cell_type": "markdown",
   "metadata": {},
   "source": [
    "### As an example, lets look at the medial entorhinal cortex."
   ]
  },
  {
   "cell_type": "code",
   "execution_count": 3,
   "metadata": {
    "collapsed": false
   },
   "outputs": [
    {
     "name": "stdout",
     "output_type": "stream",
     "text": [
      "<type 'list'>\n"
     ]
    }
   ],
   "source": [
    "# Pull data for all projections to medial entorhinal cortex\n",
    "raw_data = targ_data('ENTm')\n",
    "\n",
    "print type(raw_data) # we are given a list of experiments"
   ]
  },
  {
   "cell_type": "markdown",
   "metadata": {},
   "source": [
    "### Looking through the data\n",
    "Let's look at the first experiment in the list we retrieved. Each experiment is a [python dictionary](https://docs.python.org/2/tutorial/datastructures.html#dictionaries). What's nice about python dictionaries is that they can more or less be read like json data format. Both are pretty easy to read by eye."
   ]
  },
  {
   "cell_type": "code",
   "execution_count": 4,
   "metadata": {
    "collapsed": false
   },
   "outputs": [
    {
     "name": "stdout",
     "output_type": "stream",
     "text": [
      "<type 'dict'>\n",
      "{u'num-voxels': 2984, u'name': u'Slc17a6-IRES-Cre-2850', u'structure-name': u'Postsubiculum', u'transgenic-line': u'Slc17a6-IRES-Cre', u'gender': u'F', u'injection-volume': u'0.165434', u'structure-abbrev': u'POST', u'strain': u'B6.129', u'injection-coordinates': [9500, 2900, 8000], u'injection-structures': [{u'abbreviation': u'VISp', u'color': u'08858C', u'id': 385, u'name': u'Primary visual area'}, {u'abbreviation': u'POST', u'color': u'48C83C', u'id': 1037, u'name': u'Postsubiculum'}, {u'abbreviation': u'PRE', u'color': u'59B947', u'id': 1084, u'name': u'Presubiculum'}], u'sum': u'0.68568', u'structure-color': u'48C83C', u'structure-id': 1037, u'id': 167654019}\n"
     ]
    }
   ],
   "source": [
    "# let's look at the first experiment (element #0 in the list)\n",
    "print type(raw_data[0]) # It's a dictionary!\n",
    "print raw_data[0] "
   ]
  },
  {
   "cell_type": "markdown",
   "metadata": {},
   "source": [
    "###Cool, so let's parse this out a bit more.\n",
    "One of the first things we'd be interested in is the structure that *projects to* the medial entorhinal cortex. (We know that ENTm received projections in all experiments, but from a different source in each experiment.) We can do this by accessing the `'structure-name'` field in the dictionary"
   ]
  },
  {
   "cell_type": "code",
   "execution_count": 5,
   "metadata": {
    "collapsed": false
   },
   "outputs": [
    {
     "name": "stdout",
     "output_type": "stream",
     "text": [
      "Postsubiculum\n"
     ]
    }
   ],
   "source": [
    "print raw_data[0]['structure-name']"
   ]
  },
  {
   "cell_type": "code",
   "execution_count": 6,
   "metadata": {
    "collapsed": false,
    "scrolled": true
   },
   "outputs": [
    {
     "name": "stdout",
     "output_type": "stream",
     "text": [
      "F\n",
      "0.68568\n",
      "[9500, 2900, 8000]\n"
     ]
    }
   ],
   "source": [
    "## Here are some other things that might be interesting\n",
    "print raw_data[0]['gender']                 # gender of the mouse\n",
    "print raw_data[0]['sum']                    # total fluorescence in ENTm\n",
    "print raw_data[0]['injection-coordinates']  # exactly where they injected tracer"
   ]
  },
  {
   "cell_type": "markdown",
   "metadata": {},
   "source": [
    "### Lets make some plots\n",
    "\n",
    "One thing we might be interested in is plotting the amount of fluorescence (a *rough* measure of projection strength). To do this let's define a [function](http://www.learnpython.org/en/Functions) that takes a list of source structures and plots the fluorescence for each experiment associated with those structures."
   ]
  },
  {
   "cell_type": "code",
   "execution_count": 19,
   "metadata": {
    "collapsed": true
   },
   "outputs": [],
   "source": [
    "def plot_by_source(raw_data,source_names):\n",
    "    n = len(source_names)\n",
    "    for (xx,name) in enumerate(source_names):\n",
    "        F = [] # list of fluorescences\n",
    "        for experiment in raw_data:\n",
    "            if experiment['structure-name'] == name:\n",
    "                F.append(np.log(float(experiment['sum'])))\n",
    "        plt.plot(1+xx+np.random.uniform(-0.2,0.2,len(F)),F,'ok')\n",
    "    \n",
    "    # Make the plot look nice\n",
    "    frmt_names = [name.replace(' ','\\n') for name in source_names]\n",
    "    plt.xticks(range(1,n+1),frmt_names,fontsize=15,fontweight='bold')\n",
    "    plt.ylabel('log avg F',fontsize=15,fontweight='bold')\n",
    "    plt.xlim([0,n+1])"
   ]
  },
  {
   "cell_type": "code",
   "execution_count": 20,
   "metadata": {
    "collapsed": false
   },
   "outputs": [
    {
     "data": {
      "image/png": "[encoded data removed]",
      "text/plain": [
       "<matplotlib.figure.Figure at 0x7ff2dd638b90>"
      ]
     },
     "metadata": {},
     "output_type": "display_data"
    }
   ],
   "source": [
    "# Example: plot data strength of projections from Piriform area and Locus ceruleus\n",
    "plt.figure(figsize=(8,5))\n",
    "plot_by_source(raw_data,['Piriform area','Locus ceruleus'])\n",
    "plt.tight_layout()\n",
    "plt.show()"
   ]
  }
 ],
 "metadata": {
  "kernelspec": {
   "display_name": "Python 2",
   "language": "python",
   "name": "python2"
  },
  "language_info": {
   "codemirror_mode": {
    "name": "ipython",
    "version": 2
   },
   "file_extension": ".py",
   "mimetype": "text/x-python",
   "name": "python",
   "nbconvert_exporter": "python",
   "pygments_lexer": "ipython2",
   "version": "2.7.9"
  }
 },
 "nbformat": 4,
 "nbformat_minor": 0
}
