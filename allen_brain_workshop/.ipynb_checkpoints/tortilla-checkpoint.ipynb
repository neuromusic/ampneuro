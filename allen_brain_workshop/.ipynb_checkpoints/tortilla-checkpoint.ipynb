{
 "cells": [
  {
   "cell_type": "markdown",
   "metadata": {},
   "source": [
    "# exploring the Allen Brain Atlas API with Tortilla\n",
    "\n",
    "Tortilla simply uses Python-familiar structures like attributes and arguments to construct the URL for an API query and return the response. \n",
    "\n",
    "### We can start by wrapping the top level of the API url and giving it a friendly name."
   ]
  },
  {
   "cell_type": "code",
   "execution_count": 1,
   "metadata": {
    "collapsed": false
   },
   "outputs": [
    {
     "ename": "ImportError",
     "evalue": "No module named tortilla",
     "output_type": "error",
     "traceback": [
      "\u001b[1;31m---------------------------------------------------------------------------\u001b[0m",
      "\u001b[1;31mImportError\u001b[0m                               Traceback (most recent call last)",
      "\u001b[1;32m<ipython-input-1-0391f80683ae>\u001b[0m in \u001b[0;36m<module>\u001b[1;34m()\u001b[0m\n\u001b[1;32m----> 1\u001b[1;33m \u001b[1;32mimport\u001b[0m \u001b[0mtortilla\u001b[0m\u001b[1;33m\u001b[0m\u001b[0m\n\u001b[0m\u001b[0;32m      2\u001b[0m \u001b[0mallen\u001b[0m \u001b[1;33m=\u001b[0m \u001b[0mtortilla\u001b[0m\u001b[1;33m.\u001b[0m\u001b[0mwrap\u001b[0m\u001b[1;33m(\u001b[0m\u001b[1;34m\"http://api.brain-map.org/api/v2/data\"\u001b[0m\u001b[1;33m)\u001b[0m\u001b[1;33m\u001b[0m\u001b[0m\n",
      "\u001b[1;31mImportError\u001b[0m: No module named tortilla"
     ]
    }
   ],
   "source": [
    "import tortilla\n",
    "allen = tortilla.wrap(\"http://api.brain-map.org/api/v2/data\")"
   ]
  },
  {
   "cell_type": "markdown",
   "metadata": {},
   "source": [
    "Now, to really explore Allen's API, you have to do more than just traverse a hierarchy of URLs. \n",
    "\n",
    "It maintains its own syntax for queries, passed in as the value of the \"criteria\" parameter. Tortilla can't help us much in constructing this, so we are just going to construct it by assembling the string appropriately.\n",
    "\n",
    "The full Allen API is beyond the scope of this demo, so we're just going to construct our criteria borrowed from one of Allen's examples (http://www.brain-map.org/api/examples/examples/doc/structures/download_data.py.html)"
   ]
  },
  {
   "cell_type": "code",
   "execution_count": null,
   "metadata": {
    "collapsed": false
   },
   "outputs": [],
   "source": [
    "MOUSE_PRODUCT_ID = 1 # aba\n",
    "PLANE_ID = 1 # coronal\n",
    "\n",
    "criteria = ','.join(\n",
    "    [\"[failed$eq'false'][expression$eq'true']\",\n",
    "     \"products[id$eq%d]\"%MOUSE_PRODUCT_ID,\n",
    "     \"plane_of_section[id$eq%d]\" % PLANE_ID,\n",
    "     ]\n",
    "    )\n",
    "print criteria"
   ]
  },
  {
   "cell_type": "markdown",
   "metadata": {},
   "source": [
    "### Once we know our necessary parameters, building the query is easy\n",
    "\n",
    "We can construct our query with the default parameters passed in as a dictionary and save the wrapper to its own variable."
   ]
  },
  {
   "cell_type": "code",
   "execution_count": null,
   "metadata": {
    "collapsed": false
   },
   "outputs": [],
   "source": [
    "dataset_parameters = {\n",
    "    'criteria': criteria,\n",
    "    'start_row': 0,\n",
    "    'num_rows': 2000,\n",
    "}\n",
    "section_query = allen.SectionDataSet('query.json',params=dataset_parameters)\n",
    "print section_query"
   ]
  },
  {
   "cell_type": "markdown",
   "metadata": {},
   "source": [
    "### Did you catch what Tortilla did there with the \"SectionDataSet\" attribute?\n",
    "\n",
    "Calling `allen.SectionDataSet` added `/SectionDataSet` to the url defined in `allen`. If your API is hierarchical, you can traverse the whole thing like this. Slick, huh?\n",
    "\n",
    "Then, the `query.json` argument passed into that gets appended as `/query.json` as well.\n",
    "\n",
    "Nicely, this is just a wrapper, so it won't be executed until we call `.get()`, at which point the parameters will be appended as well."
   ]
  },
  {
   "cell_type": "code",
   "execution_count": null,
   "metadata": {
    "collapsed": false
   },
   "outputs": [],
   "source": [
    "response = section_query.get()\n",
    "type(response)"
   ]
  },
  {
   "cell_type": "markdown",
   "metadata": {},
   "source": [
    "### This response is a tortilla \"Bunch\" \n",
    "\n",
    "... at the simplist level, it maintains the JSON of the response in a dictionary structure:"
   ]
  },
  {
   "cell_type": "code",
   "execution_count": null,
   "metadata": {
    "collapsed": false
   },
   "outputs": [],
   "source": [
    "print response.keys()\n",
    "print response['total_rows']\n",
    "print len(response['msg'])"
   ]
  },
  {
   "cell_type": "markdown",
   "metadata": {},
   "source": [
    "However, since it is a \"Bunch\", we can also access the key values through attributes."
   ]
  },
  {
   "cell_type": "code",
   "execution_count": null,
   "metadata": {
    "collapsed": false
   },
   "outputs": [],
   "source": [
    "print response.total_rows\n",
    "print len(response.msg)"
   ]
  },
  {
   "cell_type": "markdown",
   "metadata": {},
   "source": [
    "We can also grab the next 2000 rows by calling `.get()` again, but updating the `start_row` parameter."
   ]
  },
  {
   "cell_type": "code",
   "execution_count": null,
   "metadata": {
    "collapsed": false
   },
   "outputs": [],
   "source": [
    "response = section_query.get(params={'start_row':2000})\n",
    "print response.start_row\n",
    "print len(response.msg)"
   ]
  },
  {
   "cell_type": "markdown",
   "metadata": {},
   "source": [
    "### We want all the rows, however\n",
    "\n",
    "So, to make our life a bit easier, we'll define a generator so we can just loop through all of queries needed to assemble the full output of the query."
   ]
  },
  {
   "cell_type": "code",
   "execution_count": null,
   "metadata": {
    "collapsed": false
   },
   "outputs": [],
   "source": [
    "def wrapped_query(wrapped,num_rows):\n",
    "    start_row = 0\n",
    "    while True:\n",
    "        \n",
    "        # let's get the response and spit out the rows\n",
    "        response = wrapped.get(params={\n",
    "            'start_row': start_row,\n",
    "            'num_rows': num_rows,\n",
    "        })\n",
    "        yield response.msg\n",
    "        \n",
    "        # if we are at the end, let's bail. otherwise set up to grab the next set of rows\n",
    "        if len(response.msg) < num_rows:\n",
    "            break\n",
    "        else:\n",
    "            start_row += len(response.msg)"
   ]
  },
  {
   "cell_type": "markdown",
   "metadata": {},
   "source": [
    "### Generators are awesome\n",
    "\n",
    "They are basically functions that you can iterate over.\n",
    "\n",
    "On each iteration of this generator, it is going to query the API and spit out the rows. And each time it is called, it will increment `start_row` by the number of rows it just returned."
   ]
  },
  {
   "cell_type": "code",
   "execution_count": null,
   "metadata": {
    "collapsed": false
   },
   "outputs": [],
   "source": [
    "rows = []\n",
    "for r in wrapped_query(section_query,1000):\n",
    "    print len(r)\n",
    "    rows += r\n",
    "print rows[0]"
   ]
  }
 ],
 "metadata": {
  "kernelspec": {
   "display_name": "Python 2",
   "language": "python",
   "name": "python2"
  },
  "language_info": {
   "codemirror_mode": {
    "name": "ipython",
    "version": 2
   },
   "file_extension": ".py",
   "mimetype": "text/x-python",
   "name": "python",
   "nbconvert_exporter": "python",
   "pygments_lexer": "ipython2",
   "version": "2.7.9"
  }
 },
 "nbformat": 4,
 "nbformat_minor": 0
}
